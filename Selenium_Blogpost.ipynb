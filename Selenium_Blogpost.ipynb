{
 "cells": [
  {
   "cell_type": "markdown",
   "metadata": {},
   "source": [
    "# Load and extract data from xkcd using selenium\n",
    "\n",
    "Automate all the things!!!\n",
    "\n",
    "Bob Peers 2020"
   ]
  },
  {
   "cell_type": "markdown",
   "metadata": {},
   "source": [
    "## Only run this if you don't already have selenium installed"
   ]
  },
  {
   "cell_type": "code",
   "execution_count": null,
   "metadata": {},
   "outputs": [],
   "source": [
    "# Install a pip package in the current Jupyter kernel\n",
    "import sys\n",
    "!{sys.executable} -m pip install numpy"
   ]
  },
  {
   "cell_type": "markdown",
   "metadata": {},
   "source": [
    "## Start the webdriver"
   ]
  },
  {
   "cell_type": "code",
   "execution_count": 25,
   "metadata": {},
   "outputs": [],
   "source": [
    "from selenium import webdriver\n",
    "from selenium.webdriver.chrome.options import Options\n",
    "from selenium.webdriver.common.by import By\n",
    "import time\n",
    "\n",
    "WIN_DRIVER = 'C:/Users/Bob/AppData/Local/Chromedriver/chromedriver.exe'\n",
    "\n",
    "# control if the browser will be visible (if headless==True then invisible)\n",
    "HEADLESS = False\n",
    "\n",
    "# create the options with the HEADLESS variable\n",
    "chrome_options = Options()\n",
    "if HEADLESS:\n",
    "    chrome_options.add_argument('--headless')\n",
    "\n",
    "# create a new webdriver object passing the options and path to chromedriver.exe\n",
    "driver = webdriver.Chrome(options=chrome_options, executable_path=WIN_DRIVER)"
   ]
  },
  {
   "cell_type": "markdown",
   "metadata": {},
   "source": [
    "## Load the xkcd site"
   ]
  },
  {
   "cell_type": "code",
   "execution_count": 2,
   "metadata": {},
   "outputs": [],
   "source": [
    "driver.get('http://xkcd.com')"
   ]
  },
  {
   "cell_type": "markdown",
   "metadata": {},
   "source": [
    "## Get the 'Archive' link"
   ]
  },
  {
   "cell_type": "code",
   "execution_count": 10,
   "metadata": {},
   "outputs": [],
   "source": [
    "link_elem = (By.LINK_TEXT, 'Archive')\n",
    "e = driver.find_element(*link_elem)"
   ]
  },
  {
   "cell_type": "markdown",
   "metadata": {},
   "source": [
    "## Print the href of the link"
   ]
  },
  {
   "cell_type": "code",
   "execution_count": 11,
   "metadata": {},
   "outputs": [
    {
     "data": {
      "text/plain": [
       "'https://xkcd.com/archive'"
      ]
     },
     "execution_count": 11,
     "metadata": {},
     "output_type": "execute_result"
    }
   ],
   "source": [
    "e.get_attribute('href')"
   ]
  },
  {
   "cell_type": "markdown",
   "metadata": {},
   "source": [
    "## Get all the links with 'Science' in the text"
   ]
  },
  {
   "cell_type": "code",
   "execution_count": 74,
   "metadata": {},
   "outputs": [
    {
     "data": {
      "text/plain": [
       "[('Eclipse Science', 'https://xkcd.com/1877/', '2017-8-16'),\n",
       " ('Trouble for Science', 'https://xkcd.com/1574/', '2015-9-7'),\n",
       " ('Science Valentine', 'https://xkcd.com/701/', '2010-2-12'),\n",
       " ('Science Montage', 'https://xkcd.com/683/', '2010-1-1'),\n",
       " ('Science Fair', 'https://xkcd.com/136/', '2006-8-2'),\n",
       " ('Science', 'https://xkcd.com/54/', '2006-1-25')]"
      ]
     },
     "execution_count": 74,
     "metadata": {},
     "output_type": "execute_result"
    }
   ],
   "source": [
    "# wait for element at bottom of page to be sure it's loaded fully\n",
    "link_ref = (By.ID, 'licenseText')\n",
    "e = WebDriverWait(driver, 10).until(EC.presence_of_element_located(link_ref))\n",
    "\n",
    "# get all links containing the word 'Science'\n",
    "link_ref = (By.XPATH, \"//div[@id='middleContainer']/a[contains(text(), 'Science')]\")\n",
    "e = driver.find_elements(*link_ref)\n",
    "\n",
    "# create list of tuples with text, href and title\n",
    "[(a.text,a.get_attribute('href'),a.get_attribute('title')) for a in e]"
   ]
  },
  {
   "cell_type": "markdown",
   "metadata": {},
   "source": [
    "## Quit the driver"
   ]
  },
  {
   "cell_type": "code",
   "execution_count": 32,
   "metadata": {},
   "outputs": [],
   "source": [
    "driver.quit()"
   ]
  }
 ],
 "metadata": {
  "kernelspec": {
   "display_name": "Python 3",
   "language": "python",
   "name": "python3"
  },
  "language_info": {
   "codemirror_mode": {
    "name": "ipython",
    "version": 3
   },
   "file_extension": ".py",
   "mimetype": "text/x-python",
   "name": "python",
   "nbconvert_exporter": "python",
   "pygments_lexer": "ipython3",
   "version": "3.7.6"
  }
 },
 "nbformat": 4,
 "nbformat_minor": 4
}
